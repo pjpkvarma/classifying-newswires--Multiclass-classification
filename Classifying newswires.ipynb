{
 "cells": [
  {
   "cell_type": "markdown",
   "metadata": {},
   "source": [
    "# Classifying newswires"
   ]
  },
  {
   "cell_type": "markdown",
   "metadata": {},
   "source": [
    "- Multiclass Classification"
   ]
  },
  {
   "cell_type": "markdown",
   "metadata": {},
   "source": [
    "building a network to classify Reuters newswires into 46 mutually exclusive topics"
   ]
  },
  {
   "cell_type": "markdown",
   "metadata": {},
   "source": [
    "data - Reuters dataset"
   ]
  },
  {
   "cell_type": "code",
   "execution_count": 1,
   "metadata": {},
   "outputs": [
    {
     "name": "stderr",
     "output_type": "stream",
     "text": [
      "Using TensorFlow backend.\n"
     ]
    },
    {
     "name": "stdout",
     "output_type": "stream",
     "text": [
      "Downloading data from https://s3.amazonaws.com/text-datasets/reuters.npz\n",
      "2113536/2110848 [==============================] - 6s 3us/step\n"
     ]
    }
   ],
   "source": [
    "#importing and loading dataset\n",
    "from keras.datasets import reuters\n",
    "(train_data, train_labels), (test_data, test_labels) = reuters.load_data(num_words = 1000)"
   ]
  },
  {
   "cell_type": "code",
   "execution_count": 2,
   "metadata": {},
   "outputs": [
    {
     "data": {
      "text/plain": [
       "(8982, 2246)"
      ]
     },
     "execution_count": 2,
     "metadata": {},
     "output_type": "execute_result"
    }
   ],
   "source": [
    "len(train_data), len(test_data)"
   ]
  },
  {
   "cell_type": "code",
   "execution_count": 5,
   "metadata": {},
   "outputs": [
    {
     "data": {
      "text/plain": [
       "[1,\n",
       " 245,\n",
       " 273,\n",
       " 207,\n",
       " 156,\n",
       " 53,\n",
       " 74,\n",
       " 160,\n",
       " 26,\n",
       " 14,\n",
       " 46,\n",
       " 296,\n",
       " 26,\n",
       " 39,\n",
       " 74,\n",
       " 2,\n",
       " 2,\n",
       " 14,\n",
       " 46,\n",
       " 2,\n",
       " 2,\n",
       " 86,\n",
       " 61,\n",
       " 2,\n",
       " 2,\n",
       " 14,\n",
       " 61,\n",
       " 451,\n",
       " 2,\n",
       " 17,\n",
       " 12]"
      ]
     },
     "execution_count": 5,
     "metadata": {},
     "output_type": "execute_result"
    }
   ],
   "source": [
    "train_data[10]"
   ]
  },
  {
   "cell_type": "code",
   "execution_count": 6,
   "metadata": {},
   "outputs": [
    {
     "name": "stdout",
     "output_type": "stream",
     "text": [
      "Downloading data from https://s3.amazonaws.com/text-datasets/reuters_word_index.json\n",
      "557056/550378 [==============================] - 2s 3us/step\n"
     ]
    }
   ],
   "source": [
    "#decoding data\n",
    "word_index = reuters.get_word_index()\n",
    "reverse_word_index = dict([(value,key) for (key,value) in word_index.items()])\n",
    "decoded_review = ' '.join([reverse_word_index.get(i-3, '?') for i in train_data[0]])"
   ]
  },
  {
   "cell_type": "code",
   "execution_count": 9,
   "metadata": {},
   "outputs": [
    {
     "data": {
      "text/plain": [
       "'? ? ? said as a result of its december acquisition of ? co it expects earnings per share in 1987 of 1 15 to 1 30 dlrs per share up from 70 cts in 1986 the company said pretax net should rise to nine to 10 mln dlrs from six mln dlrs in 1986 and ? ? revenues to 19 to 22 mln dlrs from 12 5 mln dlrs it said cash ? per share this year should be 2 50 to three dlrs reuter 3'"
      ]
     },
     "execution_count": 9,
     "metadata": {},
     "output_type": "execute_result"
    }
   ],
   "source": [
    "decoded_review"
   ]
  },
  {
   "cell_type": "code",
   "execution_count": 10,
   "metadata": {},
   "outputs": [
    {
     "data": {
      "text/plain": [
       "3"
      ]
     },
     "execution_count": 10,
     "metadata": {},
     "output_type": "execute_result"
    }
   ],
   "source": [
    "train_labels[10]"
   ]
  },
  {
   "cell_type": "code",
   "execution_count": 11,
   "metadata": {},
   "outputs": [],
   "source": [
    "#encoding data\n",
    "import numpy as np\n",
    "#function to vectorize sequence\n",
    "def vectorize_sequence(sequences, dimension=10000):\n",
    "    results = np.zeros((len(sequences), dimension))\n",
    "    for i,sequence in enumerate(sequences):\n",
    "        results[i, sequence] = 1\n",
    "    return results"
   ]
  },
  {
   "cell_type": "code",
   "execution_count": 12,
   "metadata": {},
   "outputs": [],
   "source": [
    "x_train = vectorize_sequence(train_data)\n",
    "x_test = vectorize_sequence(test_data)"
   ]
  },
  {
   "cell_type": "code",
   "execution_count": 13,
   "metadata": {},
   "outputs": [],
   "source": [
    "#encoding labels\n",
    "from keras.utils.np_utils import to_categorical\n",
    "\n",
    "train_labels=to_categorical(train_labels)\n",
    "test_labels=to_categorical(test_labels)"
   ]
  },
  {
   "cell_type": "code",
   "execution_count": 14,
   "metadata": {},
   "outputs": [],
   "source": [
    "from keras import layers,models\n",
    "\n",
    "model = models.Sequential()\n",
    "model.add(layers.Dense(64, activation='relu', input_shape=(10000,)))\n",
    "model.add(layers.Dense(64, activation='relu'))\n",
    "model.add(layers.Dense(46, activation='sigmoid'))"
   ]
  },
  {
   "cell_type": "code",
   "execution_count": 15,
   "metadata": {},
   "outputs": [
    {
     "name": "stdout",
     "output_type": "stream",
     "text": [
      "Model: \"sequential_1\"\n",
      "_________________________________________________________________\n",
      "Layer (type)                 Output Shape              Param #   \n",
      "=================================================================\n",
      "dense_1 (Dense)              (None, 64)                640064    \n",
      "_________________________________________________________________\n",
      "dense_2 (Dense)              (None, 64)                4160      \n",
      "_________________________________________________________________\n",
      "dense_3 (Dense)              (None, 46)                2990      \n",
      "=================================================================\n",
      "Total params: 647,214\n",
      "Trainable params: 647,214\n",
      "Non-trainable params: 0\n",
      "_________________________________________________________________\n"
     ]
    }
   ],
   "source": [
    "model.summary()"
   ]
  },
  {
   "cell_type": "code",
   "execution_count": 16,
   "metadata": {},
   "outputs": [],
   "source": [
    "model.compile(optimizer='rmsprop',loss='binary_crossentropy',metrics=['accuracy'])"
   ]
  },
  {
   "cell_type": "code",
   "execution_count": 20,
   "metadata": {},
   "outputs": [],
   "source": [
    "#creating validation set\n",
    "x_val=x_train[:1000]\n",
    "x_train2 = x_train[1000:]\n",
    "y_val=train_labels[:1000]\n",
    "y_train2=train_labels[1000:]"
   ]
  },
  {
   "cell_type": "code",
   "execution_count": 21,
   "metadata": {},
   "outputs": [
    {
     "name": "stdout",
     "output_type": "stream",
     "text": [
      "Train on 7982 samples, validate on 1000 samples\n",
      "Epoch 1/20\n",
      "7982/7982 [==============================] - 2s 272us/step - loss: 0.4221 - accuracy: 0.8716 - val_loss: 0.1788 - val_accuracy: 0.9783\n",
      "Epoch 2/20\n",
      "7982/7982 [==============================] - 1s 136us/step - loss: 0.1278 - accuracy: 0.9784 - val_loss: 0.0954 - val_accuracy: 0.9817\n",
      "Epoch 3/20\n",
      "7982/7982 [==============================] - 1s 140us/step - loss: 0.0826 - accuracy: 0.9845 - val_loss: 0.0711 - val_accuracy: 0.9871\n",
      "Epoch 4/20\n",
      "7982/7982 [==============================] - 1s 140us/step - loss: 0.0633 - accuracy: 0.9870 - val_loss: 0.0561 - val_accuracy: 0.9879\n",
      "Epoch 5/20\n",
      "7982/7982 [==============================] - 1s 146us/step - loss: 0.0522 - accuracy: 0.9880 - val_loss: 0.0487 - val_accuracy: 0.9883\n",
      "Epoch 6/20\n",
      "7982/7982 [==============================] - 1s 144us/step - loss: 0.0456 - accuracy: 0.9888 - val_loss: 0.0436 - val_accuracy: 0.9891\n",
      "Epoch 7/20\n",
      "7982/7982 [==============================] - 1s 149us/step - loss: 0.0411 - accuracy: 0.9896 - val_loss: 0.0404 - val_accuracy: 0.9897\n",
      "Epoch 8/20\n",
      "7982/7982 [==============================] - 1s 146us/step - loss: 0.0378 - accuracy: 0.9902 - val_loss: 0.0380 - val_accuracy: 0.9898\n",
      "Epoch 9/20\n",
      "7982/7982 [==============================] - 1s 141us/step - loss: 0.0351 - accuracy: 0.9906 - val_loss: 0.0361 - val_accuracy: 0.9904\n",
      "Epoch 10/20\n",
      "7982/7982 [==============================] - 1s 132us/step - loss: 0.0329 - accuracy: 0.9911 - val_loss: 0.0349 - val_accuracy: 0.9908\n",
      "Epoch 11/20\n",
      "7982/7982 [==============================] - 1s 136us/step - loss: 0.0310 - accuracy: 0.9915 - val_loss: 0.0342 - val_accuracy: 0.9908\n",
      "Epoch 12/20\n",
      "7982/7982 [==============================] - 1s 141us/step - loss: 0.0292 - accuracy: 0.9919 - val_loss: 0.0327 - val_accuracy: 0.9913\n",
      "Epoch 13/20\n",
      "7982/7982 [==============================] - 1s 148us/step - loss: 0.0276 - accuracy: 0.9923 - val_loss: 0.0321 - val_accuracy: 0.9914\n",
      "Epoch 14/20\n",
      "7982/7982 [==============================] - 1s 143us/step - loss: 0.0263 - accuracy: 0.9926 - val_loss: 0.0324 - val_accuracy: 0.9913\n",
      "Epoch 15/20\n",
      "7982/7982 [==============================] - 1s 140us/step - loss: 0.0249 - accuracy: 0.9929 - val_loss: 0.0310 - val_accuracy: 0.9915\n",
      "Epoch 16/20\n",
      "7982/7982 [==============================] - 1s 138us/step - loss: 0.0239 - accuracy: 0.9930 - val_loss: 0.0308 - val_accuracy: 0.9916\n",
      "Epoch 17/20\n",
      "7982/7982 [==============================] - 1s 140us/step - loss: 0.0227 - accuracy: 0.9934 - val_loss: 0.0308 - val_accuracy: 0.9916\n",
      "Epoch 18/20\n",
      "7982/7982 [==============================] - 1s 144us/step - loss: 0.0217 - accuracy: 0.9936 - val_loss: 0.0306 - val_accuracy: 0.9917\n",
      "Epoch 19/20\n",
      "7982/7982 [==============================] - 1s 140us/step - loss: 0.0208 - accuracy: 0.9938 - val_loss: 0.0303 - val_accuracy: 0.9918\n",
      "Epoch 20/20\n",
      "7982/7982 [==============================] - 1s 140us/step - loss: 0.0201 - accuracy: 0.9940 - val_loss: 0.0301 - val_accuracy: 0.9917\n"
     ]
    }
   ],
   "source": [
    "#training\n",
    "his = model.fit(x_train2,\n",
    "               y_train2,\n",
    "               epochs=20,\n",
    "               batch_size=512,\n",
    "               validation_data=(x_val, y_val))"
   ]
  },
  {
   "cell_type": "code",
   "execution_count": 22,
   "metadata": {},
   "outputs": [
    {
     "data": {
      "image/png": "[encoded data removed]",
      "text/plain": [
       "<Figure size 432x288 with 1 Axes>"
      ]
     },
     "metadata": {
      "needs_background": "light"
     },
     "output_type": "display_data"
    }
   ],
   "source": [
    "#plotting losses\n",
    "import matplotlib.pyplot as plt\n",
    "his_dict = his.history\n",
    "loss_values = his_dict['loss']\n",
    "val_loss = his_dict['val_loss']\n",
    "epochs = range(1, 21)\n",
    "plt.plot(epochs,loss_values,'b')\n",
    "plt.plot(epochs,val_loss,'r')\n",
    "plt.xlabel('epochs')\n",
    "plt.ylabel('loss')\n",
    "plt.show()"
   ]
  },
  {
   "cell_type": "code",
   "execution_count": 23,
   "metadata": {},
   "outputs": [
    {
     "data": {
      "image/png": "[encoded data removed]",
      "text/plain": [
       "<Figure size 432x288 with 1 Axes>"
      ]
     },
     "metadata": {
      "needs_background": "light"
     },
     "output_type": "display_data"
    }
   ],
   "source": [
    "#plotting accuracy\n",
    "acc_values = his_dict['accuracy']\n",
    "val_acc_loss = his_dict['val_accuracy']\n",
    "epochs = range(1, 21)\n",
    "plt.plot(epochs,acc_values,'b')\n",
    "plt.plot(epochs,val_acc_loss,'r')\n",
    "plt.xlabel('epochs')\n",
    "plt.ylabel('accuracy')\n",
    "plt.show()"
   ]
  },
  {
   "cell_type": "code",
   "execution_count": 24,
   "metadata": {},
   "outputs": [
    {
     "name": "stdout",
     "output_type": "stream",
     "text": [
      "2246/2246 [==============================] - 1s 315us/step\n"
     ]
    }
   ],
   "source": [
    "results = model.evaluate(x_test, test_labels)"
   ]
  },
  {
   "cell_type": "code",
   "execution_count": 25,
   "metadata": {},
   "outputs": [
    {
     "data": {
      "text/plain": [
       "[0.03204220323719728, 0.9909888505935669]"
      ]
     },
     "execution_count": 25,
     "metadata": {},
     "output_type": "execute_result"
    }
   ],
   "source": [
    "results"
   ]
  },
  {
   "cell_type": "markdown",
   "metadata": {},
   "source": [
    "Accuracy : 99%\n",
    "loss : 0.032"
   ]
  },
  {
   "cell_type": "code",
   "execution_count": 26,
   "metadata": {},
   "outputs": [],
   "source": [
    "predictions = model.predict(x_test)"
   ]
  },
  {
   "cell_type": "code",
   "execution_count": 27,
   "metadata": {},
   "outputs": [
    {
     "data": {
      "text/plain": [
       "array([[1.15953271e-05, 2.50434205e-05, 6.93080256e-06, ...,\n",
       "        5.97649159e-06, 5.08814082e-06, 1.32691594e-06],\n",
       "       [4.39760694e-03, 1.63739920e-02, 1.24528073e-02, ...,\n",
       "        3.68598441e-04, 1.11562095e-03, 1.23997778e-03],\n",
       "       [4.49931528e-03, 8.37391078e-01, 7.00570047e-02, ...,\n",
       "        4.44254729e-05, 4.80482006e-04, 1.05364155e-03],\n",
       "       ...,\n",
       "       [5.05439857e-06, 6.70479902e-04, 2.93146091e-04, ...,\n",
       "        9.46227301e-05, 2.81016255e-04, 1.85623849e-05],\n",
       "       [1.17724616e-04, 3.46522755e-03, 9.71070840e-04, ...,\n",
       "        4.94507440e-05, 8.40428256e-05, 1.19485274e-04],\n",
       "       [3.44706117e-04, 1.88012719e-01, 1.68916322e-02, ...,\n",
       "        1.87782920e-04, 2.33273651e-03, 3.77866410e-04]], dtype=float32)"
      ]
     },
     "execution_count": 27,
     "metadata": {},
     "output_type": "execute_result"
    }
   ],
   "source": [
    "predictions"
   ]
  },
  {
   "cell_type": "code",
   "execution_count": 28,
   "metadata": {},
   "outputs": [
    {
     "data": {
      "text/plain": [
       "(46,)"
      ]
     },
     "execution_count": 28,
     "metadata": {},
     "output_type": "execute_result"
    }
   ],
   "source": [
    "predictions[0].shape"
   ]
  },
  {
   "cell_type": "code",
   "execution_count": 29,
   "metadata": {},
   "outputs": [
    {
     "data": {
      "text/plain": [
       "3"
      ]
     },
     "execution_count": 29,
     "metadata": {},
     "output_type": "execute_result"
    }
   ],
   "source": [
    "np.argmax(predictions[0])"
   ]
  },
  {
   "cell_type": "code",
   "execution_count": null,
   "metadata": {},
   "outputs": [],
   "source": []
  }
 ],
 "metadata": {
  "kernelspec": {
   "display_name": "Python 3",
   "language": "python",
   "name": "python3"
  },
  "language_info": {
   "codemirror_mode": {
    "name": "ipython",
    "version": 3
   },
   "file_extension": ".py",
   "mimetype": "text/x-python",
   "name": "python",
   "nbconvert_exporter": "python",
   "pygments_lexer": "ipython3",
   "version": "3.7.4"
  }
 },
 "nbformat": 4,
 "nbformat_minor": 4
}
